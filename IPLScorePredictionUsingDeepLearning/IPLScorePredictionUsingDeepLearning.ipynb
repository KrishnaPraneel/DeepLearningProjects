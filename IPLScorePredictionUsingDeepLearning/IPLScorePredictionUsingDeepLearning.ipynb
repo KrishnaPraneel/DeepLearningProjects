{
 "cells": [
  {
   "cell_type": "code",
   "execution_count": 1,
   "id": "21344042",
   "metadata": {},
   "outputs": [],
   "source": [
    "import pandas as pd\n",
    "import numpy as np\n",
    "import matplotlib.pyplot as plt\n",
    "import seaborn as sns\n",
    "from sklearn import preprocessing\n",
    "import keras\n",
    "import tensorflow as tf"
   ]
  },
  {
   "cell_type": "code",
   "execution_count": 3,
   "id": "5082a991",
   "metadata": {},
   "outputs": [
    {
     "data": {
      "text/html": [
       "<div>\n",
       "<style scoped>\n",
       "    .dataframe tbody tr th:only-of-type {\n",
       "        vertical-align: middle;\n",
       "    }\n",
       "\n",
       "    .dataframe tbody tr th {\n",
       "        vertical-align: top;\n",
       "    }\n",
       "\n",
       "    .dataframe thead th {\n",
       "        text-align: right;\n",
       "    }\n",
       "</style>\n",
       "<table border=\"1\" class=\"dataframe\">\n",
       "  <thead>\n",
       "    <tr style=\"text-align: right;\">\n",
       "      <th></th>\n",
       "      <th>mid</th>\n",
       "      <th>date</th>\n",
       "      <th>venue</th>\n",
       "      <th>bat_team</th>\n",
       "      <th>bowl_team</th>\n",
       "      <th>batsman</th>\n",
       "      <th>bowler</th>\n",
       "      <th>runs</th>\n",
       "      <th>wickets</th>\n",
       "      <th>overs</th>\n",
       "      <th>runs_last_5</th>\n",
       "      <th>wickets_last_5</th>\n",
       "      <th>striker</th>\n",
       "      <th>non-striker</th>\n",
       "      <th>total</th>\n",
       "    </tr>\n",
       "  </thead>\n",
       "  <tbody>\n",
       "    <tr>\n",
       "      <th>0</th>\n",
       "      <td>1</td>\n",
       "      <td>2008-04-18</td>\n",
       "      <td>M Chinnaswamy Stadium</td>\n",
       "      <td>Kolkata Knight Riders</td>\n",
       "      <td>Royal Challengers Bangalore</td>\n",
       "      <td>SC Ganguly</td>\n",
       "      <td>P Kumar</td>\n",
       "      <td>1</td>\n",
       "      <td>0</td>\n",
       "      <td>0.1</td>\n",
       "      <td>1</td>\n",
       "      <td>0</td>\n",
       "      <td>0</td>\n",
       "      <td>0</td>\n",
       "      <td>222</td>\n",
       "    </tr>\n",
       "    <tr>\n",
       "      <th>1</th>\n",
       "      <td>1</td>\n",
       "      <td>2008-04-18</td>\n",
       "      <td>M Chinnaswamy Stadium</td>\n",
       "      <td>Kolkata Knight Riders</td>\n",
       "      <td>Royal Challengers Bangalore</td>\n",
       "      <td>BB McCullum</td>\n",
       "      <td>P Kumar</td>\n",
       "      <td>1</td>\n",
       "      <td>0</td>\n",
       "      <td>0.2</td>\n",
       "      <td>1</td>\n",
       "      <td>0</td>\n",
       "      <td>0</td>\n",
       "      <td>0</td>\n",
       "      <td>222</td>\n",
       "    </tr>\n",
       "    <tr>\n",
       "      <th>2</th>\n",
       "      <td>1</td>\n",
       "      <td>2008-04-18</td>\n",
       "      <td>M Chinnaswamy Stadium</td>\n",
       "      <td>Kolkata Knight Riders</td>\n",
       "      <td>Royal Challengers Bangalore</td>\n",
       "      <td>BB McCullum</td>\n",
       "      <td>P Kumar</td>\n",
       "      <td>2</td>\n",
       "      <td>0</td>\n",
       "      <td>0.2</td>\n",
       "      <td>2</td>\n",
       "      <td>0</td>\n",
       "      <td>0</td>\n",
       "      <td>0</td>\n",
       "      <td>222</td>\n",
       "    </tr>\n",
       "    <tr>\n",
       "      <th>3</th>\n",
       "      <td>1</td>\n",
       "      <td>2008-04-18</td>\n",
       "      <td>M Chinnaswamy Stadium</td>\n",
       "      <td>Kolkata Knight Riders</td>\n",
       "      <td>Royal Challengers Bangalore</td>\n",
       "      <td>BB McCullum</td>\n",
       "      <td>P Kumar</td>\n",
       "      <td>2</td>\n",
       "      <td>0</td>\n",
       "      <td>0.3</td>\n",
       "      <td>2</td>\n",
       "      <td>0</td>\n",
       "      <td>0</td>\n",
       "      <td>0</td>\n",
       "      <td>222</td>\n",
       "    </tr>\n",
       "    <tr>\n",
       "      <th>4</th>\n",
       "      <td>1</td>\n",
       "      <td>2008-04-18</td>\n",
       "      <td>M Chinnaswamy Stadium</td>\n",
       "      <td>Kolkata Knight Riders</td>\n",
       "      <td>Royal Challengers Bangalore</td>\n",
       "      <td>BB McCullum</td>\n",
       "      <td>P Kumar</td>\n",
       "      <td>2</td>\n",
       "      <td>0</td>\n",
       "      <td>0.4</td>\n",
       "      <td>2</td>\n",
       "      <td>0</td>\n",
       "      <td>0</td>\n",
       "      <td>0</td>\n",
       "      <td>222</td>\n",
       "    </tr>\n",
       "  </tbody>\n",
       "</table>\n",
       "</div>"
      ],
      "text/plain": [
       "   mid        date                  venue               bat_team  \\\n",
       "0    1  2008-04-18  M Chinnaswamy Stadium  Kolkata Knight Riders   \n",
       "1    1  2008-04-18  M Chinnaswamy Stadium  Kolkata Knight Riders   \n",
       "2    1  2008-04-18  M Chinnaswamy Stadium  Kolkata Knight Riders   \n",
       "3    1  2008-04-18  M Chinnaswamy Stadium  Kolkata Knight Riders   \n",
       "4    1  2008-04-18  M Chinnaswamy Stadium  Kolkata Knight Riders   \n",
       "\n",
       "                     bowl_team      batsman   bowler  runs  wickets  overs  \\\n",
       "0  Royal Challengers Bangalore   SC Ganguly  P Kumar     1        0    0.1   \n",
       "1  Royal Challengers Bangalore  BB McCullum  P Kumar     1        0    0.2   \n",
       "2  Royal Challengers Bangalore  BB McCullum  P Kumar     2        0    0.2   \n",
       "3  Royal Challengers Bangalore  BB McCullum  P Kumar     2        0    0.3   \n",
       "4  Royal Challengers Bangalore  BB McCullum  P Kumar     2        0    0.4   \n",
       "\n",
       "   runs_last_5  wickets_last_5  striker  non-striker  total  \n",
       "0            1               0        0            0    222  \n",
       "1            1               0        0            0    222  \n",
       "2            2               0        0            0    222  \n",
       "3            2               0        0            0    222  \n",
       "4            2               0        0            0    222  "
      ]
     },
     "execution_count": 3,
     "metadata": {},
     "output_type": "execute_result"
    }
   ],
   "source": [
    "ipl = pd.read_csv('/Users/krishnapeddibhotla/Downloads/ipl_data.csv')\n",
    "ipl.head()"
   ]
  },
  {
   "cell_type": "code",
   "execution_count": 4,
   "id": "300445f9",
   "metadata": {},
   "outputs": [],
   "source": [
    "#Dropping certain features \n",
    "df = ipl.drop(['date', 'runs', 'wickets', 'overs', 'runs_last_5', 'wickets_last_5','mid', 'striker', 'non-striker'], axis =1)"
   ]
  },
  {
   "cell_type": "code",
   "execution_count": 5,
   "id": "47900496",
   "metadata": {},
   "outputs": [],
   "source": [
    "X = df.drop(['total'], axis =1)\n",
    "y = df['total']"
   ]
  },
  {
   "cell_type": "code",
   "execution_count": 6,
   "id": "c6dddd54",
   "metadata": {},
   "outputs": [],
   "source": [
    "#label encoding\n",
    "\n",
    "from sklearn.preprocessing import LabelEncoder\n",
    "# Create a LabelEncoder object for each categorical feature\n",
    "venue_encoder = LabelEncoder()\n",
    "batting_team_encoder = LabelEncoder()\n",
    "bowling_team_encoder = LabelEncoder()\n",
    "striker_encoder = LabelEncoder()\n",
    "bowler_encoder = LabelEncoder()\n",
    "\n",
    "# Fit and transform the categorical features with label encoding\n",
    "X['venue'] = venue_encoder.fit_transform(X['venue'])\n",
    "X['bat_team'] = batting_team_encoder.fit_transform(X['bat_team'])\n",
    "X['bowl_team'] = bowling_team_encoder.fit_transform(X['bowl_team'])\n",
    "X['batsman'] = striker_encoder.fit_transform(X['batsman'])\n",
    "X['bowler'] = bowler_encoder.fit_transform(X['bowler'])"
   ]
  },
  {
   "cell_type": "code",
   "execution_count": 7,
   "id": "bd6d8bec",
   "metadata": {},
   "outputs": [],
   "source": [
    "# Train test Split \n",
    "from sklearn.model_selection import train_test_split\n",
    "X_train, X_test, y_train, y_test = train_test_split(X, y, test_size=0.3, random_state=42)"
   ]
  },
  {
   "cell_type": "code",
   "execution_count": 8,
   "id": "55a28ed6",
   "metadata": {},
   "outputs": [],
   "source": [
    "from sklearn.preprocessing import MinMaxScaler\n",
    "\n",
    "scaler = MinMaxScaler()\n",
    "\n",
    "# Fit the scaler on the training data and transform both training and testing data\n",
    "X_train_scaled = scaler.fit_transform(X_train)\n",
    "X_test_scaled = scaler.transform(X_test)"
   ]
  },
  {
   "cell_type": "code",
   "execution_count": 11,
   "id": "3852492d",
   "metadata": {},
   "outputs": [],
   "source": [
    "# Define the neural network model\n",
    "model = keras.Sequential([\n",
    "    keras.layers.Input( shape=(X_train_scaled.shape[1],)),  # Input layer\n",
    "    keras.layers.Dense(512, activation='relu'),  # Hidden layer with 512 units and ReLU activation\n",
    "    keras.layers.Dense(216, activation='relu'),  # Hidden layer with 216 units and ReLU activation\n",
    "    keras.layers.Dense(1, activation='linear')  # Output layer with linear activation for regression\n",
    "])\n",
    "\n",
    "# Compile the model with Huber loss\n",
    "huber_loss = tf.keras.losses.Huber(delta=1.0)  # You can adjust the 'delta' parameter as needed\n",
    "model.compile(optimizer='adam', loss=huber_loss)  # Use Huber loss for regression"
   ]
  },
  {
   "cell_type": "code",
   "execution_count": 12,
   "id": "7c7f204a",
   "metadata": {},
   "outputs": [
    {
     "name": "stdout",
     "output_type": "stream",
     "text": [
      "Epoch 1/50\n",
      "832/832 [==============================] - 1s 966us/step - loss: 32.3197 - val_loss: 22.1200\n",
      "Epoch 2/50\n",
      "832/832 [==============================] - 1s 909us/step - loss: 22.3141 - val_loss: 21.9965\n",
      "Epoch 3/50\n",
      "832/832 [==============================] - 1s 897us/step - loss: 22.2749 - val_loss: 21.9860\n",
      "Epoch 4/50\n",
      "832/832 [==============================] - 1s 878us/step - loss: 22.2726 - val_loss: 22.0160\n",
      "Epoch 5/50\n",
      "832/832 [==============================] - 1s 916us/step - loss: 22.2391 - val_loss: 22.0213\n",
      "Epoch 6/50\n",
      "832/832 [==============================] - 1s 998us/step - loss: 22.1982 - val_loss: 22.0003\n",
      "Epoch 7/50\n",
      "832/832 [==============================] - 1s 1ms/step - loss: 22.1840 - val_loss: 21.9642\n",
      "Epoch 8/50\n",
      "832/832 [==============================] - 1s 883us/step - loss: 22.1490 - val_loss: 22.2819\n",
      "Epoch 9/50\n",
      "832/832 [==============================] - 1s 891us/step - loss: 22.1491 - val_loss: 21.8205\n",
      "Epoch 10/50\n",
      "832/832 [==============================] - 1s 900us/step - loss: 22.1420 - val_loss: 21.8605\n",
      "Epoch 11/50\n",
      "832/832 [==============================] - 1s 897us/step - loss: 22.1217 - val_loss: 21.9081\n",
      "Epoch 12/50\n",
      "832/832 [==============================] - 1s 930us/step - loss: 22.0894 - val_loss: 21.7863\n",
      "Epoch 13/50\n",
      "832/832 [==============================] - 1s 1ms/step - loss: 22.0969 - val_loss: 22.1886\n",
      "Epoch 14/50\n",
      "832/832 [==============================] - 1s 900us/step - loss: 22.0433 - val_loss: 21.8358\n",
      "Epoch 15/50\n",
      "832/832 [==============================] - 1s 925us/step - loss: 22.0165 - val_loss: 21.8061\n",
      "Epoch 16/50\n",
      "832/832 [==============================] - 1s 1ms/step - loss: 21.9319 - val_loss: 21.7656\n",
      "Epoch 17/50\n",
      "832/832 [==============================] - 1s 1ms/step - loss: 21.8522 - val_loss: 21.5493\n",
      "Epoch 18/50\n",
      "832/832 [==============================] - 1s 933us/step - loss: 21.7757 - val_loss: 21.8505\n",
      "Epoch 19/50\n",
      "832/832 [==============================] - 1s 1ms/step - loss: 21.7452 - val_loss: 21.4463\n",
      "Epoch 20/50\n",
      "832/832 [==============================] - 1s 1ms/step - loss: 21.6796 - val_loss: 21.4228\n",
      "Epoch 21/50\n",
      "832/832 [==============================] - 1s 948us/step - loss: 21.6728 - val_loss: 21.3247\n",
      "Epoch 22/50\n",
      "832/832 [==============================] - 1s 980us/step - loss: 21.5858 - val_loss: 21.3165\n",
      "Epoch 23/50\n",
      "832/832 [==============================] - 1s 951us/step - loss: 21.5583 - val_loss: 21.4649\n",
      "Epoch 24/50\n",
      "832/832 [==============================] - 1s 1ms/step - loss: 21.4975 - val_loss: 21.9143\n",
      "Epoch 25/50\n",
      "832/832 [==============================] - 1s 1ms/step - loss: 21.4568 - val_loss: 21.1669\n",
      "Epoch 26/50\n",
      "832/832 [==============================] - 1s 942us/step - loss: 21.4096 - val_loss: 21.2095\n",
      "Epoch 27/50\n",
      "832/832 [==============================] - 1s 908us/step - loss: 21.3589 - val_loss: 21.0487\n",
      "Epoch 28/50\n",
      "832/832 [==============================] - 1s 912us/step - loss: 21.3015 - val_loss: 21.1836\n",
      "Epoch 29/50\n",
      "832/832 [==============================] - 1s 893us/step - loss: 21.2540 - val_loss: 20.9866\n",
      "Epoch 30/50\n",
      "832/832 [==============================] - 1s 969us/step - loss: 21.1900 - val_loss: 20.8847\n",
      "Epoch 31/50\n",
      "832/832 [==============================] - 1s 944us/step - loss: 21.1355 - val_loss: 20.8486\n",
      "Epoch 32/50\n",
      "832/832 [==============================] - 1s 905us/step - loss: 21.0676 - val_loss: 20.8829\n",
      "Epoch 33/50\n",
      "832/832 [==============================] - 1s 931us/step - loss: 21.0022 - val_loss: 20.6441\n",
      "Epoch 34/50\n",
      "832/832 [==============================] - 1s 921us/step - loss: 20.8876 - val_loss: 20.5577\n",
      "Epoch 35/50\n",
      "832/832 [==============================] - 1s 931us/step - loss: 20.8160 - val_loss: 20.4906\n",
      "Epoch 36/50\n",
      "832/832 [==============================] - 1s 1ms/step - loss: 20.6920 - val_loss: 20.3922\n",
      "Epoch 37/50\n",
      "832/832 [==============================] - 1s 971us/step - loss: 20.5476 - val_loss: 20.3848\n",
      "Epoch 38/50\n",
      "832/832 [==============================] - 1s 932us/step - loss: 20.4724 - val_loss: 20.4266\n",
      "Epoch 39/50\n",
      "832/832 [==============================] - 1s 1ms/step - loss: 20.3620 - val_loss: 20.0652\n",
      "Epoch 40/50\n",
      "832/832 [==============================] - 1s 948us/step - loss: 20.2277 - val_loss: 20.2107\n",
      "Epoch 41/50\n",
      "832/832 [==============================] - 1s 994us/step - loss: 20.1401 - val_loss: 19.9374\n",
      "Epoch 42/50\n",
      "832/832 [==============================] - 1s 920us/step - loss: 19.9468 - val_loss: 19.6865\n",
      "Epoch 43/50\n",
      "832/832 [==============================] - 1s 1ms/step - loss: 19.7840 - val_loss: 19.5792\n",
      "Epoch 44/50\n",
      "832/832 [==============================] - 1s 1ms/step - loss: 19.6559 - val_loss: 19.3555\n",
      "Epoch 45/50\n",
      "832/832 [==============================] - 1s 952us/step - loss: 19.6234 - val_loss: 19.2927\n",
      "Epoch 46/50\n",
      "832/832 [==============================] - 1s 981us/step - loss: 19.4655 - val_loss: 19.0942\n",
      "Epoch 47/50\n",
      "832/832 [==============================] - 1s 1ms/step - loss: 19.3603 - val_loss: 19.2341\n",
      "Epoch 48/50\n",
      "832/832 [==============================] - 1s 906us/step - loss: 19.2971 - val_loss: 19.5123\n",
      "Epoch 49/50\n",
      "832/832 [==============================] - 1s 894us/step - loss: 19.1713 - val_loss: 19.0341\n",
      "Epoch 50/50\n",
      "832/832 [==============================] - 1s 894us/step - loss: 19.0993 - val_loss: 19.0131\n"
     ]
    },
    {
     "data": {
      "text/plain": [
       "<keras.src.callbacks.History at 0x312b52150>"
      ]
     },
     "execution_count": 12,
     "metadata": {},
     "output_type": "execute_result"
    }
   ],
   "source": [
    " # Train the model\n",
    "model.fit(X_train_scaled, y_train, epochs=50, batch_size=64, validation_data=(X_test_scaled, y_test))"
   ]
  },
  {
   "cell_type": "code",
   "execution_count": 13,
   "id": "42eb950d",
   "metadata": {},
   "outputs": [
    {
     "data": {
      "text/plain": [
       "<Axes: >"
      ]
     },
     "execution_count": 13,
     "metadata": {},
     "output_type": "execute_result"
    },
    {
     "data": {
      "image/png": "[encoded data removed]",
      "text/plain": [
       "<Figure size 640x480 with 1 Axes>"
      ]
     },
     "metadata": {},
     "output_type": "display_data"
    }
   ],
   "source": [
    "model_losses = pd.DataFrame(model.history.history)\n",
    "model_losses.plot()"
   ]
  },
  {
   "cell_type": "code",
   "execution_count": 15,
   "id": "ef2356ed",
   "metadata": {},
   "outputs": [
    {
     "name": "stdout",
     "output_type": "stream",
     "text": [
      "713/713 [==============================] - 0s 294us/step\n"
     ]
    },
    {
     "data": {
      "text/plain": [
       "19.504756159532544"
      ]
     },
     "execution_count": 15,
     "metadata": {},
     "output_type": "execute_result"
    }
   ],
   "source": [
    "# Make predictions\n",
    "predictions = model.predict(X_test_scaled)\n",
    "\n",
    "from sklearn.metrics import mean_absolute_error,mean_squared_error\n",
    "mean_absolute_error(y_test,predictions)"
   ]
  },
  {
   "cell_type": "code",
   "execution_count": 17,
   "id": "979977fd",
   "metadata": {},
   "outputs": [],
   "source": [
    "import ipywidgets as widgets\n",
    "from IPython.display import display, clear_output\n",
    "\n",
    "import warnings\n",
    "warnings.filterwarnings(\"ignore\")\n",
    "\n",
    "venue = widgets.Dropdown(options=df['venue'].unique().tolist(),description='Select Venue:')\n",
    "batting_team = widgets.Dropdown(options =df['bat_team'].unique().tolist(),  description='Select Batting Team:')\n",
    "bowling_team = widgets.Dropdown(options=df['bowl_team'].unique().tolist(),  description='Select Batting Team:')\n",
    "striker = widgets.Dropdown(options=df['batsman'].unique().tolist(), description='Select Striker:')\n",
    "bowler = widgets.Dropdown(options=df['bowler'].unique().tolist(), description='Select Bowler:')\n",
    "\n",
    "predict_button = widgets.Button(description=\"Predict Score\")\n",
    "\n",
    "def predict_score(b):\n",
    "    with output:\n",
    "        clear_output()  # Clear the previous output\n",
    "        \n",
    "\n",
    "        # Decode the encoded values back to their original values\n",
    "        decoded_venue = venue_encoder.transform([venue.value])\n",
    "        decoded_batting_team = batting_team_encoder.transform([batting_team.value])\n",
    "        decoded_bowling_team = bowling_team_encoder.transform([bowling_team.value])\n",
    "        decoded_striker = striker_encoder.transform([striker.value])\n",
    "        decoded_bowler = bowler_encoder.transform([bowler.value])\n",
    "\n",
    "\n",
    "        input = np.array([decoded_venue,  decoded_batting_team, decoded_bowling_team,decoded_striker, decoded_bowler])\n",
    "        input = input.reshape(1,5)\n",
    "        input = scaler.transform(input)\n",
    "        #print(input)\n",
    "        predicted_score = model.predict(input)\n",
    "        predicted_score = int(predicted_score[0,0])\n",
    "\n",
    "        print(predicted_score)"
   ]
  },
  {
   "cell_type": "code",
   "execution_count": 18,
   "id": "8ac05d62",
   "metadata": {},
   "outputs": [
    {
     "data": {
      "application/vnd.jupyter.widget-view+json": {
       "model_id": "172258dde5bc48ada916c34fecedc89f",
       "version_major": 2,
       "version_minor": 0
      },
      "text/plain": [
       "Dropdown(description='Select Venue:', options=('M Chinnaswamy Stadium', 'Punjab Cricket Association Stadium, M…"
      ]
     },
     "metadata": {},
     "output_type": "display_data"
    },
    {
     "data": {
      "application/vnd.jupyter.widget-view+json": {
       "model_id": "d9248fa63c284584b3c585c2b58397e3",
       "version_major": 2,
       "version_minor": 0
      },
      "text/plain": [
       "Dropdown(description='Select Batting Team:', options=('Kolkata Knight Riders', 'Chennai Super Kings', 'Rajasth…"
      ]
     },
     "metadata": {},
     "output_type": "display_data"
    },
    {
     "data": {
      "application/vnd.jupyter.widget-view+json": {
       "model_id": "f893499ff41d473785a16cada346a7c7",
       "version_major": 2,
       "version_minor": 0
      },
      "text/plain": [
       "Dropdown(description='Select Batting Team:', options=('Royal Challengers Bangalore', 'Kings XI Punjab', 'Delhi…"
      ]
     },
     "metadata": {},
     "output_type": "display_data"
    },
    {
     "data": {
      "application/vnd.jupyter.widget-view+json": {
       "model_id": "6e018526551d4e6aba717f0be798c5ee",
       "version_major": 2,
       "version_minor": 0
      },
      "text/plain": [
       "Dropdown(description='Select Striker:', options=('SC Ganguly', 'BB McCullum', 'RT Ponting', 'DJ Hussey', 'Moha…"
      ]
     },
     "metadata": {},
     "output_type": "display_data"
    },
    {
     "data": {
      "application/vnd.jupyter.widget-view+json": {
       "model_id": "ae768a1991e9473885b0210bac9a889e",
       "version_major": 2,
       "version_minor": 0
      },
      "text/plain": [
       "Dropdown(description='Select Bowler:', options=('P Kumar', 'Z Khan', 'AA Noffke', 'JH Kallis', 'SB Joshi', 'CL…"
      ]
     },
     "metadata": {},
     "output_type": "display_data"
    },
    {
     "data": {
      "application/vnd.jupyter.widget-view+json": {
       "model_id": "8a4236f0924a4be985cd600e0b1d3dd9",
       "version_major": 2,
       "version_minor": 0
      },
      "text/plain": [
       "Button(description='Predict Score', style=ButtonStyle())"
      ]
     },
     "metadata": {},
     "output_type": "display_data"
    },
    {
     "data": {
      "application/vnd.jupyter.widget-view+json": {
       "model_id": "c1ad5bd4db92465c957d8705a23b966c",
       "version_major": 2,
       "version_minor": 0
      },
      "text/plain": [
       "Output()"
      ]
     },
     "metadata": {},
     "output_type": "display_data"
    }
   ],
   "source": [
    "predict_button.on_click(predict_score)\n",
    "output = widgets.Output()\n",
    "display(venue, batting_team, bowling_team, striker, bowler, predict_button, output)"
   ]
  },
  {
   "cell_type": "code",
   "execution_count": null,
   "id": "aca3e5f6",
   "metadata": {},
   "outputs": [],
   "source": []
  }
 ],
 "metadata": {
  "kernelspec": {
   "display_name": "Python 3 (ipykernel)",
   "language": "python",
   "name": "python3"
  },
  "language_info": {
   "codemirror_mode": {
    "name": "ipython",
    "version": 3
   },
   "file_extension": ".py",
   "mimetype": "text/x-python",
   "name": "python",
   "nbconvert_exporter": "python",
   "pygments_lexer": "ipython3",
   "version": "3.11.5"
  }
 },
 "nbformat": 4,
 "nbformat_minor": 5
}
